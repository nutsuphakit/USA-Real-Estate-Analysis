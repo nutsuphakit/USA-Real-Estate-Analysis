{
 "cells": [
  {
   "cell_type": "code",
   "execution_count": 1,
   "id": "0e9252f7",
   "metadata": {
    "_cell_guid": "03a2eefd-eaa5-486f-9e35-9727b998a01a",
    "_uuid": "1e7921be-6d3b-4735-8b0f-cb8d357f2ba5",
    "collapsed": false,
    "execution": {
     "iopub.execute_input": "2024-06-16T14:10:33.794338Z",
     "iopub.status.busy": "2024-06-16T14:10:33.793067Z",
     "iopub.status.idle": "2024-06-16T14:10:34.796590Z",
     "shell.execute_reply": "2024-06-16T14:10:34.794984Z"
    },
    "jupyter": {
     "outputs_hidden": false
    },
    "papermill": {
     "duration": 1.018333,
     "end_time": "2024-06-16T14:10:34.799129",
     "exception": false,
     "start_time": "2024-06-16T14:10:33.780796",
     "status": "completed"
    },
    "tags": []
   },
   "outputs": [
    {
     "name": "stdout",
     "output_type": "stream",
     "text": [
      "/kaggle/input/usa-real-estate-dataset/realtor-data.zip.csv\n"
     ]
    }
   ],
   "source": [
    "# This Python 3 environment comes with many helpful analytics libraries installed\n",
    "# It is defined by the kaggle/python Docker image: https://github.com/kaggle/docker-python\n",
    "# For example, here's several helpful packages to load\n",
    "\n",
    "import numpy as np # linear algebra\n",
    "import pandas as pd # data processing, CSV file I/O (e.g. pd.read_csv)\n",
    "\n",
    "# Input data files are available in the read-only \"../input/\" directory\n",
    "# For example, running this (by clicking run or pressing Shift+Enter) will list all files under the input directory\n",
    "\n",
    "import os\n",
    "for dirname, _, filenames in os.walk('/kaggle/input'):\n",
    "    for filename in filenames:\n",
    "        print(os.path.join(dirname, filename))\n",
    "\n",
    "# You can write up to 20GB to the current directory (/kaggle/working/) that gets preserved as output when you create a version using \"Save & Run All\" \n",
    "# You can also write temporary files to /kaggle/temp/, but they won't be saved outside of the current session"
   ]
  },
  {
   "cell_type": "code",
   "execution_count": 2,
   "id": "bec75ae1",
   "metadata": {
    "_cell_guid": "732d2f52-24b3-47a5-b36b-100feadd4050",
    "_uuid": "3286182a-d2bf-4163-b78a-e704d3401ffd",
    "collapsed": false,
    "execution": {
     "iopub.execute_input": "2024-06-16T14:10:34.821419Z",
     "iopub.status.busy": "2024-06-16T14:10:34.820751Z",
     "iopub.status.idle": "2024-06-16T14:10:36.667712Z",
     "shell.execute_reply": "2024-06-16T14:10:36.666517Z"
    },
    "jupyter": {
     "outputs_hidden": false
    },
    "papermill": {
     "duration": 1.861176,
     "end_time": "2024-06-16T14:10:36.670572",
     "exception": false,
     "start_time": "2024-06-16T14:10:34.809396",
     "status": "completed"
    },
    "tags": []
   },
   "outputs": [],
   "source": [
    "import numpy as np\n",
    "import pandas as pd\n",
    "import matplotlib.pyplot as plt\n",
    "from sklearn.model_selection import train_test_split\n",
    "from sklearn.linear_model import LinearRegression\n",
    "from sklearn.ensemble import RandomForestRegressor\n",
    "from sklearn.metrics import accuracy_score\n",
    "from sklearn.metrics import mean_absolute_error,r2_score"
   ]
  },
  {
   "cell_type": "code",
   "execution_count": 3,
   "id": "700789cb",
   "metadata": {
    "_cell_guid": "d1b1b03a-56ab-4cb8-8894-7767137112a4",
    "_uuid": "bfa729b6-e0eb-4660-b3da-3a9756c3e9e5",
    "collapsed": false,
    "execution": {
     "iopub.execute_input": "2024-06-16T14:10:36.691748Z",
     "iopub.status.busy": "2024-06-16T14:10:36.691366Z",
     "iopub.status.idle": "2024-06-16T14:10:43.246068Z",
     "shell.execute_reply": "2024-06-16T14:10:43.244875Z"
    },
    "jupyter": {
     "outputs_hidden": false
    },
    "papermill": {
     "duration": 6.568051,
     "end_time": "2024-06-16T14:10:43.248480",
     "exception": false,
     "start_time": "2024-06-16T14:10:36.680429",
     "status": "completed"
    },
    "tags": []
   },
   "outputs": [
    {
     "data": {
      "text/html": [
       "<div>\n",
       "<style scoped>\n",
       "    .dataframe tbody tr th:only-of-type {\n",
       "        vertical-align: middle;\n",
       "    }\n",
       "\n",
       "    .dataframe tbody tr th {\n",
       "        vertical-align: top;\n",
       "    }\n",
       "\n",
       "    .dataframe thead th {\n",
       "        text-align: right;\n",
       "    }\n",
       "</style>\n",
       "<table border=\"1\" class=\"dataframe\">\n",
       "  <thead>\n",
       "    <tr style=\"text-align: right;\">\n",
       "      <th></th>\n",
       "      <th>brokered_by</th>\n",
       "      <th>status</th>\n",
       "      <th>price</th>\n",
       "      <th>bed</th>\n",
       "      <th>bath</th>\n",
       "      <th>acre_lot</th>\n",
       "      <th>street</th>\n",
       "      <th>city</th>\n",
       "      <th>state</th>\n",
       "      <th>zip_code</th>\n",
       "      <th>house_size</th>\n",
       "      <th>prev_sold_date</th>\n",
       "    </tr>\n",
       "  </thead>\n",
       "  <tbody>\n",
       "    <tr>\n",
       "      <th>0</th>\n",
       "      <td>103378.0</td>\n",
       "      <td>for_sale</td>\n",
       "      <td>105000.0</td>\n",
       "      <td>3.0</td>\n",
       "      <td>2.0</td>\n",
       "      <td>0.12</td>\n",
       "      <td>1962661.0</td>\n",
       "      <td>Adjuntas</td>\n",
       "      <td>Puerto Rico</td>\n",
       "      <td>601.0</td>\n",
       "      <td>920.0</td>\n",
       "      <td>NaN</td>\n",
       "    </tr>\n",
       "    <tr>\n",
       "      <th>1</th>\n",
       "      <td>52707.0</td>\n",
       "      <td>for_sale</td>\n",
       "      <td>80000.0</td>\n",
       "      <td>4.0</td>\n",
       "      <td>2.0</td>\n",
       "      <td>0.08</td>\n",
       "      <td>1902874.0</td>\n",
       "      <td>Adjuntas</td>\n",
       "      <td>Puerto Rico</td>\n",
       "      <td>601.0</td>\n",
       "      <td>1527.0</td>\n",
       "      <td>NaN</td>\n",
       "    </tr>\n",
       "    <tr>\n",
       "      <th>2</th>\n",
       "      <td>103379.0</td>\n",
       "      <td>for_sale</td>\n",
       "      <td>67000.0</td>\n",
       "      <td>2.0</td>\n",
       "      <td>1.0</td>\n",
       "      <td>0.15</td>\n",
       "      <td>1404990.0</td>\n",
       "      <td>Juana Diaz</td>\n",
       "      <td>Puerto Rico</td>\n",
       "      <td>795.0</td>\n",
       "      <td>748.0</td>\n",
       "      <td>NaN</td>\n",
       "    </tr>\n",
       "    <tr>\n",
       "      <th>3</th>\n",
       "      <td>31239.0</td>\n",
       "      <td>for_sale</td>\n",
       "      <td>145000.0</td>\n",
       "      <td>4.0</td>\n",
       "      <td>2.0</td>\n",
       "      <td>0.10</td>\n",
       "      <td>1947675.0</td>\n",
       "      <td>Ponce</td>\n",
       "      <td>Puerto Rico</td>\n",
       "      <td>731.0</td>\n",
       "      <td>1800.0</td>\n",
       "      <td>NaN</td>\n",
       "    </tr>\n",
       "    <tr>\n",
       "      <th>4</th>\n",
       "      <td>34632.0</td>\n",
       "      <td>for_sale</td>\n",
       "      <td>65000.0</td>\n",
       "      <td>6.0</td>\n",
       "      <td>2.0</td>\n",
       "      <td>0.05</td>\n",
       "      <td>331151.0</td>\n",
       "      <td>Mayaguez</td>\n",
       "      <td>Puerto Rico</td>\n",
       "      <td>680.0</td>\n",
       "      <td>NaN</td>\n",
       "      <td>NaN</td>\n",
       "    </tr>\n",
       "  </tbody>\n",
       "</table>\n",
       "</div>"
      ],
      "text/plain": [
       "   brokered_by    status     price  bed  bath  acre_lot     street  \\\n",
       "0     103378.0  for_sale  105000.0  3.0   2.0      0.12  1962661.0   \n",
       "1      52707.0  for_sale   80000.0  4.0   2.0      0.08  1902874.0   \n",
       "2     103379.0  for_sale   67000.0  2.0   1.0      0.15  1404990.0   \n",
       "3      31239.0  for_sale  145000.0  4.0   2.0      0.10  1947675.0   \n",
       "4      34632.0  for_sale   65000.0  6.0   2.0      0.05   331151.0   \n",
       "\n",
       "         city        state  zip_code  house_size prev_sold_date  \n",
       "0    Adjuntas  Puerto Rico     601.0       920.0            NaN  \n",
       "1    Adjuntas  Puerto Rico     601.0      1527.0            NaN  \n",
       "2  Juana Diaz  Puerto Rico     795.0       748.0            NaN  \n",
       "3       Ponce  Puerto Rico     731.0      1800.0            NaN  \n",
       "4    Mayaguez  Puerto Rico     680.0         NaN            NaN  "
      ]
     },
     "execution_count": 3,
     "metadata": {},
     "output_type": "execute_result"
    }
   ],
   "source": [
    "data = pd.read_csv('/kaggle/input/usa-real-estate-dataset/realtor-data.zip.csv')\n",
    "data.head()"
   ]
  },
  {
   "cell_type": "code",
   "execution_count": 4,
   "id": "b02bcfc6",
   "metadata": {
    "_cell_guid": "a1632336-ccb5-49e3-9b2d-f3d31833de49",
    "_uuid": "1afb84ea-8e2f-4939-a142-dbc3c26afbef",
    "collapsed": false,
    "execution": {
     "iopub.execute_input": "2024-06-16T14:10:43.269983Z",
     "iopub.status.busy": "2024-06-16T14:10:43.269570Z",
     "iopub.status.idle": "2024-06-16T14:10:43.276470Z",
     "shell.execute_reply": "2024-06-16T14:10:43.275300Z"
    },
    "jupyter": {
     "outputs_hidden": false
    },
    "papermill": {
     "duration": 0.020488,
     "end_time": "2024-06-16T14:10:43.278952",
     "exception": false,
     "start_time": "2024-06-16T14:10:43.258464",
     "status": "completed"
    },
    "tags": []
   },
   "outputs": [
    {
     "data": {
      "text/plain": [
       "(2226382, 12)"
      ]
     },
     "execution_count": 4,
     "metadata": {},
     "output_type": "execute_result"
    }
   ],
   "source": [
    "#Checking number of dataset\n",
    "data.shape"
   ]
  },
  {
   "cell_type": "code",
   "execution_count": 5,
   "id": "098ad9ab",
   "metadata": {
    "_cell_guid": "a6a33f05-e6fc-4df9-8b96-d076af02de98",
    "_uuid": "483cd593-a6f7-4e6d-a79e-14fd7e7c7328",
    "collapsed": false,
    "execution": {
     "iopub.execute_input": "2024-06-16T14:10:43.301150Z",
     "iopub.status.busy": "2024-06-16T14:10:43.300724Z",
     "iopub.status.idle": "2024-06-16T14:10:43.327357Z",
     "shell.execute_reply": "2024-06-16T14:10:43.325877Z"
    },
    "jupyter": {
     "outputs_hidden": false
    },
    "papermill": {
     "duration": 0.040653,
     "end_time": "2024-06-16T14:10:43.330045",
     "exception": false,
     "start_time": "2024-06-16T14:10:43.289392",
     "status": "completed"
    },
    "tags": []
   },
   "outputs": [
    {
     "name": "stdout",
     "output_type": "stream",
     "text": [
      "<class 'pandas.core.frame.DataFrame'>\n",
      "RangeIndex: 2226382 entries, 0 to 2226381\n",
      "Data columns (total 12 columns):\n",
      " #   Column          Dtype  \n",
      "---  ------          -----  \n",
      " 0   brokered_by     float64\n",
      " 1   status          object \n",
      " 2   price           float64\n",
      " 3   bed             float64\n",
      " 4   bath            float64\n",
      " 5   acre_lot        float64\n",
      " 6   street          float64\n",
      " 7   city            object \n",
      " 8   state           object \n",
      " 9   zip_code        float64\n",
      " 10  house_size      float64\n",
      " 11  prev_sold_date  object \n",
      "dtypes: float64(8), object(4)\n",
      "memory usage: 203.8+ MB\n"
     ]
    }
   ],
   "source": [
    "data.info()"
   ]
  },
  {
   "cell_type": "markdown",
   "id": "b65f0176",
   "metadata": {
    "_cell_guid": "43df8ac4-425e-4b63-b2d2-e38d119f4a62",
    "_uuid": "b85746de-1d76-410d-af87-9a3eee85d225",
    "papermill": {
     "duration": 0.009842,
     "end_time": "2024-06-16T14:10:43.350238",
     "exception": false,
     "start_time": "2024-06-16T14:10:43.340396",
     "status": "completed"
    },
    "tags": []
   },
   "source": [
    "**Data Cleaning**"
   ]
  },
  {
   "cell_type": "code",
   "execution_count": 6,
   "id": "d668f718",
   "metadata": {
    "_cell_guid": "e76d71e8-ebd5-4f10-b839-b352d2ad5edc",
    "_uuid": "f9637044-d6e5-44b4-af83-ca239215d2ed",
    "collapsed": false,
    "execution": {
     "iopub.execute_input": "2024-06-16T14:10:43.372616Z",
     "iopub.status.busy": "2024-06-16T14:10:43.371614Z",
     "iopub.status.idle": "2024-06-16T14:10:49.920055Z",
     "shell.execute_reply": "2024-06-16T14:10:49.918906Z"
    },
    "jupyter": {
     "outputs_hidden": false
    },
    "papermill": {
     "duration": 6.562505,
     "end_time": "2024-06-16T14:10:49.922843",
     "exception": false,
     "start_time": "2024-06-16T14:10:43.360338",
     "status": "completed"
    },
    "tags": []
   },
   "outputs": [],
   "source": [
    "#brokered_by, zip_code, street should be string type\n",
    "data['brokered_by'] = data['brokered_by'].astype(str)\n",
    "data['zip_code'] = data['zip_code'].astype(str)\n",
    "data['street'] = data['street'].astype(str)"
   ]
  },
  {
   "cell_type": "code",
   "execution_count": 7,
   "id": "925f9996",
   "metadata": {
    "_cell_guid": "6092436f-d321-4a2b-8c87-39b7d3956836",
    "_uuid": "155a77ea-fecd-4452-b27e-d6453ae3580b",
    "collapsed": false,
    "execution": {
     "iopub.execute_input": "2024-06-16T14:10:49.945322Z",
     "iopub.status.busy": "2024-06-16T14:10:49.944562Z",
     "iopub.status.idle": "2024-06-16T14:10:49.955908Z",
     "shell.execute_reply": "2024-06-16T14:10:49.954791Z"
    },
    "jupyter": {
     "outputs_hidden": false
    },
    "papermill": {
     "duration": 0.025197,
     "end_time": "2024-06-16T14:10:49.958355",
     "exception": false,
     "start_time": "2024-06-16T14:10:49.933158",
     "status": "completed"
    },
    "tags": []
   },
   "outputs": [
    {
     "name": "stdout",
     "output_type": "stream",
     "text": [
      "<class 'pandas.core.frame.DataFrame'>\n",
      "RangeIndex: 2226382 entries, 0 to 2226381\n",
      "Data columns (total 12 columns):\n",
      " #   Column          Dtype  \n",
      "---  ------          -----  \n",
      " 0   brokered_by     object \n",
      " 1   status          object \n",
      " 2   price           float64\n",
      " 3   bed             float64\n",
      " 4   bath            float64\n",
      " 5   acre_lot        float64\n",
      " 6   street          object \n",
      " 7   city            object \n",
      " 8   state           object \n",
      " 9   zip_code        object \n",
      " 10  house_size      float64\n",
      " 11  prev_sold_date  object \n",
      "dtypes: float64(5), object(7)\n",
      "memory usage: 203.8+ MB\n"
     ]
    }
   ],
   "source": [
    "data.info()"
   ]
  },
  {
   "cell_type": "code",
   "execution_count": 8,
   "id": "9a4f8cd6",
   "metadata": {
    "_cell_guid": "911ccaf8-bc58-436e-924d-a3fc10807ffa",
    "_uuid": "d777fae7-5612-4c2a-96ec-ed36c4c62cc1",
    "collapsed": false,
    "execution": {
     "iopub.execute_input": "2024-06-16T14:10:49.981239Z",
     "iopub.status.busy": "2024-06-16T14:10:49.980423Z",
     "iopub.status.idle": "2024-06-16T14:10:51.625275Z",
     "shell.execute_reply": "2024-06-16T14:10:51.624070Z"
    },
    "jupyter": {
     "outputs_hidden": false
    },
    "papermill": {
     "duration": 1.659122,
     "end_time": "2024-06-16T14:10:51.627863",
     "exception": false,
     "start_time": "2024-06-16T14:10:49.968741",
     "status": "completed"
    },
    "tags": []
   },
   "outputs": [
    {
     "data": {
      "text/plain": [
       "brokered_by            0\n",
       "status                 0\n",
       "price               1541\n",
       "bed               481317\n",
       "bath              511771\n",
       "acre_lot          325589\n",
       "street                 0\n",
       "city                1407\n",
       "state                  8\n",
       "zip_code               0\n",
       "house_size        568484\n",
       "prev_sold_date    734297\n",
       "dtype: int64"
      ]
     },
     "execution_count": 8,
     "metadata": {},
     "output_type": "execute_result"
    }
   ],
   "source": [
    "#Checking Missing Values\n",
    "data.isna().sum()"
   ]
  },
  {
   "cell_type": "code",
   "execution_count": 9,
   "id": "37198a4c",
   "metadata": {
    "_cell_guid": "c68f3823-4611-4da2-ba4e-7a67dea68c13",
    "_uuid": "c3066052-4b27-4968-9362-f8492e661e3e",
    "collapsed": false,
    "execution": {
     "iopub.execute_input": "2024-06-16T14:10:51.651326Z",
     "iopub.status.busy": "2024-06-16T14:10:51.650800Z",
     "iopub.status.idle": "2024-06-16T14:10:53.605307Z",
     "shell.execute_reply": "2024-06-16T14:10:53.604103Z"
    },
    "jupyter": {
     "outputs_hidden": false
    },
    "papermill": {
     "duration": 1.969759,
     "end_time": "2024-06-16T14:10:53.608152",
     "exception": false,
     "start_time": "2024-06-16T14:10:51.638393",
     "status": "completed"
    },
    "tags": []
   },
   "outputs": [],
   "source": [
    "#Removing missing value\n",
    "data.dropna(inplace=True)"
   ]
  },
  {
   "cell_type": "code",
   "execution_count": 10,
   "id": "a9fc7c81",
   "metadata": {
    "_cell_guid": "54c5e345-fb4d-4584-ba51-e261523bee23",
    "_uuid": "7342cfdd-82ed-4dc0-85f9-a01d6705c6bd",
    "collapsed": false,
    "execution": {
     "iopub.execute_input": "2024-06-16T14:10:53.630941Z",
     "iopub.status.busy": "2024-06-16T14:10:53.630525Z",
     "iopub.status.idle": "2024-06-16T14:10:55.096195Z",
     "shell.execute_reply": "2024-06-16T14:10:55.095003Z"
    },
    "jupyter": {
     "outputs_hidden": false
    },
    "papermill": {
     "duration": 1.480207,
     "end_time": "2024-06-16T14:10:55.098891",
     "exception": false,
     "start_time": "2024-06-16T14:10:53.618684",
     "status": "completed"
    },
    "tags": []
   },
   "outputs": [
    {
     "data": {
      "text/plain": [
       "0"
      ]
     },
     "execution_count": 10,
     "metadata": {},
     "output_type": "execute_result"
    }
   ],
   "source": [
    "#Checking Duplicates\n",
    "data.duplicated().sum()"
   ]
  },
  {
   "cell_type": "code",
   "execution_count": 11,
   "id": "d4e4b67c",
   "metadata": {
    "_cell_guid": "41d2f241-f079-4fc1-9511-765f42342105",
    "_uuid": "ce44ecd6-e528-423c-a287-9d76fc1e14e3",
    "collapsed": false,
    "execution": {
     "iopub.execute_input": "2024-06-16T14:10:55.123239Z",
     "iopub.status.busy": "2024-06-16T14:10:55.122826Z",
     "iopub.status.idle": "2024-06-16T14:10:55.129994Z",
     "shell.execute_reply": "2024-06-16T14:10:55.128887Z"
    },
    "jupyter": {
     "outputs_hidden": false
    },
    "papermill": {
     "duration": 0.022188,
     "end_time": "2024-06-16T14:10:55.132450",
     "exception": false,
     "start_time": "2024-06-16T14:10:55.110262",
     "status": "completed"
    },
    "tags": []
   },
   "outputs": [
    {
     "data": {
      "text/plain": [
       "(1089759, 12)"
      ]
     },
     "execution_count": 11,
     "metadata": {},
     "output_type": "execute_result"
    }
   ],
   "source": [
    "#Checking number of dataset after cleaning\n",
    "data.shape"
   ]
  },
  {
   "cell_type": "markdown",
   "id": "2b48d54c",
   "metadata": {
    "_cell_guid": "65885600-e182-464b-adce-07ae3fce5d71",
    "_uuid": "9a7e5f59-05c1-4c1d-8bb4-739f7fe112b3",
    "papermill": {
     "duration": 0.010838,
     "end_time": "2024-06-16T14:10:55.154255",
     "exception": false,
     "start_time": "2024-06-16T14:10:55.143417",
     "status": "completed"
    },
    "tags": []
   },
   "source": [
    "**Correlation between Price vs State**"
   ]
  },
  {
   "cell_type": "code",
   "execution_count": 12,
   "id": "fd2a44bd",
   "metadata": {
    "_cell_guid": "1d39eb45-c089-4977-9b89-63c346065685",
    "_uuid": "b5959cfb-d3d3-4b13-b740-7311c6b8cd34",
    "collapsed": false,
    "execution": {
     "iopub.execute_input": "2024-06-16T14:10:55.177652Z",
     "iopub.status.busy": "2024-06-16T14:10:55.177272Z",
     "iopub.status.idle": "2024-06-16T14:11:11.011585Z",
     "shell.execute_reply": "2024-06-16T14:11:11.010073Z"
    },
    "jupyter": {
     "outputs_hidden": false
    },
    "papermill": {
     "duration": 15.85071,
     "end_time": "2024-06-16T14:11:11.015862",
     "exception": false,
     "start_time": "2024-06-16T14:10:55.165152",
     "status": "completed"
    },
    "tags": []
   },
   "outputs": [
    {
     "name": "stdout",
     "output_type": "stream",
     "text": [
      "                sum_sq         df            F  PR(>F)\n",
      "C(state)  7.433644e+16       52.0  1058.022826     0.0\n",
      "Residual  1.472356e+18  1089706.0          NaN     NaN\n"
     ]
    }
   ],
   "source": [
    "#Checking dependency of price vs state\n",
    "\n",
    "import statsmodels.api as sm\n",
    "from statsmodels.formula.api import ols\n",
    "\n",
    "model = ols('price ~ C(state)', data=data).fit()\n",
    "\n",
    "anova_table = sm.stats.anova_lm(model, typ=2)\n",
    "\n",
    "print(anova_table)"
   ]
  },
  {
   "cell_type": "markdown",
   "id": "e17e5f7b",
   "metadata": {
    "_cell_guid": "e9a01512-babb-4495-9fc5-9330de4741e0",
    "_uuid": "6d349aec-73aa-44bf-ba2a-a585f67c698f",
    "papermill": {
     "duration": 0.022481,
     "end_time": "2024-06-16T14:11:11.061774",
     "exception": false,
     "start_time": "2024-06-16T14:11:11.039293",
     "status": "completed"
    },
    "tags": []
   },
   "source": [
    "p-value < 0.05 \n",
    "There is a significant difference between the mean house prices across different states."
   ]
  },
  {
   "cell_type": "code",
   "execution_count": 13,
   "id": "b94b2670",
   "metadata": {
    "_cell_guid": "8cd21396-6342-4ec6-8d3b-62094c562f52",
    "_uuid": "cd25c888-b262-4bec-8258-92980f69cbb6",
    "collapsed": false,
    "execution": {
     "iopub.execute_input": "2024-06-16T14:11:11.112368Z",
     "iopub.status.busy": "2024-06-16T14:11:11.111391Z",
     "iopub.status.idle": "2024-06-16T14:11:11.319532Z",
     "shell.execute_reply": "2024-06-16T14:11:11.318278Z"
    },
    "jupyter": {
     "outputs_hidden": false
    },
    "papermill": {
     "duration": 0.236299,
     "end_time": "2024-06-16T14:11:11.322255",
     "exception": false,
     "start_time": "2024-06-16T14:11:11.085956",
     "status": "completed"
    },
    "tags": []
   },
   "outputs": [
    {
     "data": {
      "text/plain": [
       "state\n",
       "California              158487\n",
       "Florida                 109273\n",
       "Texas                   106174\n",
       "Arizona                  50292\n",
       "Pennsylvania             42728\n",
       "Georgia                  42450\n",
       "Washington               41256\n",
       "New York                 39053\n",
       "Illinois                 38740\n",
       "Virginia                 38423\n",
       "Ohio                     35620\n",
       "Maryland                 30577\n",
       "Minnesota                27665\n",
       "North Carolina           27638\n",
       "Massachusetts            24893\n",
       "Oklahoma                 22979\n",
       "Missouri                 20713\n",
       "Oregon                   18463\n",
       "New Jersey               16219\n",
       "Colorado                 15222\n",
       "Michigan                 14818\n",
       "Wisconsin                13030\n",
       "Iowa                     12751\n",
       "Tennessee                12391\n",
       "South Carolina           11287\n",
       "Kentucky                 10949\n",
       "Alabama                   9519\n",
       "Idaho                     9187\n",
       "New Mexico                8877\n",
       "Arkansas                  8641\n",
       "Louisiana                 8279\n",
       "Nevada                    7094\n",
       "Kansas                    6725\n",
       "Connecticut               6336\n",
       "Indiana                   5909\n",
       "Rhode Island              5226\n",
       "Delaware                  4860\n",
       "West Virginia             4494\n",
       "Utah                      4161\n",
       "Nebraska                  3013\n",
       "Montana                   2975\n",
       "Hawaii                    2906\n",
       "District of Columbia      2509\n",
       "Mississippi               2275\n",
       "North Dakota              1214\n",
       "New Hampshire              766\n",
       "South Dakota               664\n",
       "Wyoming                    595\n",
       "Vermont                    494\n",
       "Maine                      373\n",
       "Alaska                     301\n",
       "Puerto Rico                255\n",
       "Virgin Islands              20\n",
       "Name: count, dtype: int64"
      ]
     },
     "execution_count": 13,
     "metadata": {},
     "output_type": "execute_result"
    }
   ],
   "source": [
    "#Checking number of data by state\n",
    "data['state'].value_counts()"
   ]
  },
  {
   "cell_type": "markdown",
   "id": "8eed481a",
   "metadata": {
    "_cell_guid": "ed3d68d0-e288-4ab9-bdcd-02f8db4e2d0c",
    "_uuid": "0953c8c9-d0f6-4e7c-8da8-cb5218f1f41f",
    "papermill": {
     "duration": 0.010783,
     "end_time": "2024-06-16T14:11:11.344466",
     "exception": false,
     "start_time": "2024-06-16T14:11:11.333683",
     "status": "completed"
    },
    "tags": []
   },
   "source": [
    "**California Real Estate Analysis**"
   ]
  },
  {
   "cell_type": "code",
   "execution_count": 14,
   "id": "49e3d90d",
   "metadata": {
    "_cell_guid": "9087218b-1fef-4cb4-88c8-b504acaa1250",
    "_uuid": "5c3182ab-a877-47d8-9dd8-08b396e592f1",
    "collapsed": false,
    "execution": {
     "iopub.execute_input": "2024-06-16T14:11:11.368414Z",
     "iopub.status.busy": "2024-06-16T14:11:11.367993Z",
     "iopub.status.idle": "2024-06-16T14:11:11.610991Z",
     "shell.execute_reply": "2024-06-16T14:11:11.609935Z"
    },
    "jupyter": {
     "outputs_hidden": false
    },
    "papermill": {
     "duration": 0.257779,
     "end_time": "2024-06-16T14:11:11.613383",
     "exception": false,
     "start_time": "2024-06-16T14:11:11.355604",
     "status": "completed"
    },
    "tags": []
   },
   "outputs": [
    {
     "data": {
      "text/html": [
       "<div>\n",
       "<style scoped>\n",
       "    .dataframe tbody tr th:only-of-type {\n",
       "        vertical-align: middle;\n",
       "    }\n",
       "\n",
       "    .dataframe tbody tr th {\n",
       "        vertical-align: top;\n",
       "    }\n",
       "\n",
       "    .dataframe thead th {\n",
       "        text-align: right;\n",
       "    }\n",
       "</style>\n",
       "<table border=\"1\" class=\"dataframe\">\n",
       "  <thead>\n",
       "    <tr style=\"text-align: right;\">\n",
       "      <th></th>\n",
       "      <th>brokered_by</th>\n",
       "      <th>status</th>\n",
       "      <th>price</th>\n",
       "      <th>bed</th>\n",
       "      <th>bath</th>\n",
       "      <th>acre_lot</th>\n",
       "      <th>street</th>\n",
       "      <th>city</th>\n",
       "      <th>state</th>\n",
       "      <th>zip_code</th>\n",
       "      <th>house_size</th>\n",
       "      <th>prev_sold_date</th>\n",
       "    </tr>\n",
       "  </thead>\n",
       "  <tbody>\n",
       "    <tr>\n",
       "      <th>1208998</th>\n",
       "      <td>4311.0</td>\n",
       "      <td>for_sale</td>\n",
       "      <td>172999.0</td>\n",
       "      <td>3.0</td>\n",
       "      <td>2.0</td>\n",
       "      <td>0.16</td>\n",
       "      <td>987585.0</td>\n",
       "      <td>Blythe</td>\n",
       "      <td>California</td>\n",
       "      <td>92225.0</td>\n",
       "      <td>1132.0</td>\n",
       "      <td>1984-06-29</td>\n",
       "    </tr>\n",
       "    <tr>\n",
       "      <th>1209113</th>\n",
       "      <td>4311.0</td>\n",
       "      <td>for_sale</td>\n",
       "      <td>201000.0</td>\n",
       "      <td>2.0</td>\n",
       "      <td>2.0</td>\n",
       "      <td>0.34</td>\n",
       "      <td>761139.0</td>\n",
       "      <td>Blythe</td>\n",
       "      <td>California</td>\n",
       "      <td>92225.0</td>\n",
       "      <td>1100.0</td>\n",
       "      <td>1997-09-23</td>\n",
       "    </tr>\n",
       "    <tr>\n",
       "      <th>1209116</th>\n",
       "      <td>76008.0</td>\n",
       "      <td>for_sale</td>\n",
       "      <td>250000.0</td>\n",
       "      <td>7.0</td>\n",
       "      <td>3.0</td>\n",
       "      <td>0.19</td>\n",
       "      <td>1002149.0</td>\n",
       "      <td>Blythe</td>\n",
       "      <td>California</td>\n",
       "      <td>92225.0</td>\n",
       "      <td>3126.0</td>\n",
       "      <td>2015-09-23</td>\n",
       "    </tr>\n",
       "    <tr>\n",
       "      <th>1209118</th>\n",
       "      <td>86230.0</td>\n",
       "      <td>for_sale</td>\n",
       "      <td>325000.0</td>\n",
       "      <td>3.0</td>\n",
       "      <td>2.0</td>\n",
       "      <td>5.00</td>\n",
       "      <td>664584.0</td>\n",
       "      <td>Blythe</td>\n",
       "      <td>California</td>\n",
       "      <td>92225.0</td>\n",
       "      <td>1925.0</td>\n",
       "      <td>1985-01-14</td>\n",
       "    </tr>\n",
       "    <tr>\n",
       "      <th>1209120</th>\n",
       "      <td>22611.0</td>\n",
       "      <td>for_sale</td>\n",
       "      <td>287500.0</td>\n",
       "      <td>5.0</td>\n",
       "      <td>3.0</td>\n",
       "      <td>0.20</td>\n",
       "      <td>1230938.0</td>\n",
       "      <td>Blythe</td>\n",
       "      <td>California</td>\n",
       "      <td>92225.0</td>\n",
       "      <td>1642.0</td>\n",
       "      <td>2018-03-08</td>\n",
       "    </tr>\n",
       "    <tr>\n",
       "      <th>...</th>\n",
       "      <td>...</td>\n",
       "      <td>...</td>\n",
       "      <td>...</td>\n",
       "      <td>...</td>\n",
       "      <td>...</td>\n",
       "      <td>...</td>\n",
       "      <td>...</td>\n",
       "      <td>...</td>\n",
       "      <td>...</td>\n",
       "      <td>...</td>\n",
       "      <td>...</td>\n",
       "      <td>...</td>\n",
       "    </tr>\n",
       "    <tr>\n",
       "      <th>2177842</th>\n",
       "      <td>79212.0</td>\n",
       "      <td>sold</td>\n",
       "      <td>525000.0</td>\n",
       "      <td>1.0</td>\n",
       "      <td>1.0</td>\n",
       "      <td>0.02</td>\n",
       "      <td>1063265.0</td>\n",
       "      <td>South Lake Tahoe</td>\n",
       "      <td>California</td>\n",
       "      <td>96150.0</td>\n",
       "      <td>607.0</td>\n",
       "      <td>2022-03-07</td>\n",
       "    </tr>\n",
       "    <tr>\n",
       "      <th>2177843</th>\n",
       "      <td>27315.0</td>\n",
       "      <td>sold</td>\n",
       "      <td>459400.0</td>\n",
       "      <td>3.0</td>\n",
       "      <td>1.0</td>\n",
       "      <td>0.12</td>\n",
       "      <td>227460.0</td>\n",
       "      <td>South Lake Tahoe</td>\n",
       "      <td>California</td>\n",
       "      <td>96150.0</td>\n",
       "      <td>1160.0</td>\n",
       "      <td>2022-03-07</td>\n",
       "    </tr>\n",
       "    <tr>\n",
       "      <th>2177849</th>\n",
       "      <td>84002.0</td>\n",
       "      <td>sold</td>\n",
       "      <td>850000.0</td>\n",
       "      <td>4.0</td>\n",
       "      <td>3.0</td>\n",
       "      <td>0.14</td>\n",
       "      <td>1763021.0</td>\n",
       "      <td>South Lake Tahoe</td>\n",
       "      <td>California</td>\n",
       "      <td>96150.0</td>\n",
       "      <td>1956.0</td>\n",
       "      <td>2022-04-22</td>\n",
       "    </tr>\n",
       "    <tr>\n",
       "      <th>2177857</th>\n",
       "      <td>31770.0</td>\n",
       "      <td>sold</td>\n",
       "      <td>959000.0</td>\n",
       "      <td>4.0</td>\n",
       "      <td>3.0</td>\n",
       "      <td>0.21</td>\n",
       "      <td>183662.0</td>\n",
       "      <td>South Lake Tahoe</td>\n",
       "      <td>California</td>\n",
       "      <td>96150.0</td>\n",
       "      <td>1824.0</td>\n",
       "      <td>2021-11-23</td>\n",
       "    </tr>\n",
       "    <tr>\n",
       "      <th>2177858</th>\n",
       "      <td>16829.0</td>\n",
       "      <td>sold</td>\n",
       "      <td>599000.0</td>\n",
       "      <td>2.0</td>\n",
       "      <td>2.0</td>\n",
       "      <td>0.16</td>\n",
       "      <td>902169.0</td>\n",
       "      <td>South Lake Tahoe</td>\n",
       "      <td>California</td>\n",
       "      <td>96150.0</td>\n",
       "      <td>1040.0</td>\n",
       "      <td>2021-11-23</td>\n",
       "    </tr>\n",
       "  </tbody>\n",
       "</table>\n",
       "<p>158487 rows × 12 columns</p>\n",
       "</div>"
      ],
      "text/plain": [
       "        brokered_by    status     price  bed  bath  acre_lot     street  \\\n",
       "1208998      4311.0  for_sale  172999.0  3.0   2.0      0.16   987585.0   \n",
       "1209113      4311.0  for_sale  201000.0  2.0   2.0      0.34   761139.0   \n",
       "1209116     76008.0  for_sale  250000.0  7.0   3.0      0.19  1002149.0   \n",
       "1209118     86230.0  for_sale  325000.0  3.0   2.0      5.00   664584.0   \n",
       "1209120     22611.0  for_sale  287500.0  5.0   3.0      0.20  1230938.0   \n",
       "...             ...       ...       ...  ...   ...       ...        ...   \n",
       "2177842     79212.0      sold  525000.0  1.0   1.0      0.02  1063265.0   \n",
       "2177843     27315.0      sold  459400.0  3.0   1.0      0.12   227460.0   \n",
       "2177849     84002.0      sold  850000.0  4.0   3.0      0.14  1763021.0   \n",
       "2177857     31770.0      sold  959000.0  4.0   3.0      0.21   183662.0   \n",
       "2177858     16829.0      sold  599000.0  2.0   2.0      0.16   902169.0   \n",
       "\n",
       "                     city       state zip_code  house_size prev_sold_date  \n",
       "1208998            Blythe  California  92225.0      1132.0     1984-06-29  \n",
       "1209113            Blythe  California  92225.0      1100.0     1997-09-23  \n",
       "1209116            Blythe  California  92225.0      3126.0     2015-09-23  \n",
       "1209118            Blythe  California  92225.0      1925.0     1985-01-14  \n",
       "1209120            Blythe  California  92225.0      1642.0     2018-03-08  \n",
       "...                   ...         ...      ...         ...            ...  \n",
       "2177842  South Lake Tahoe  California  96150.0       607.0     2022-03-07  \n",
       "2177843  South Lake Tahoe  California  96150.0      1160.0     2022-03-07  \n",
       "2177849  South Lake Tahoe  California  96150.0      1956.0     2022-04-22  \n",
       "2177857  South Lake Tahoe  California  96150.0      1824.0     2021-11-23  \n",
       "2177858  South Lake Tahoe  California  96150.0      1040.0     2021-11-23  \n",
       "\n",
       "[158487 rows x 12 columns]"
      ]
     },
     "execution_count": 14,
     "metadata": {},
     "output_type": "execute_result"
    }
   ],
   "source": [
    "#Change to California Real Estate Analysis\n",
    "#To filter out data that is not related to the state of California\n",
    "df_ca = data[data['state'] == 'California']\n",
    "df_ca"
   ]
  },
  {
   "cell_type": "code",
   "execution_count": 15,
   "id": "ea3757ed",
   "metadata": {
    "execution": {
     "iopub.execute_input": "2024-06-16T14:11:11.638514Z",
     "iopub.status.busy": "2024-06-16T14:11:11.638117Z",
     "iopub.status.idle": "2024-06-16T14:11:11.770818Z",
     "shell.execute_reply": "2024-06-16T14:11:11.769345Z"
    },
    "papermill": {
     "duration": 0.148562,
     "end_time": "2024-06-16T14:11:11.773480",
     "exception": false,
     "start_time": "2024-06-16T14:11:11.624918",
     "status": "completed"
    },
    "tags": []
   },
   "outputs": [
    {
     "name": "stdout",
     "output_type": "stream",
     "text": [
      "<class 'pandas.core.frame.DataFrame'>\n",
      "Index: 158487 entries, 1208998 to 2177858\n",
      "Data columns (total 12 columns):\n",
      " #   Column          Non-Null Count   Dtype  \n",
      "---  ------          --------------   -----  \n",
      " 0   brokered_by     158487 non-null  object \n",
      " 1   status          158487 non-null  object \n",
      " 2   price           158487 non-null  float64\n",
      " 3   bed             158487 non-null  float64\n",
      " 4   bath            158487 non-null  float64\n",
      " 5   acre_lot        158487 non-null  float64\n",
      " 6   street          158487 non-null  object \n",
      " 7   city            158487 non-null  object \n",
      " 8   state           158487 non-null  object \n",
      " 9   zip_code        158487 non-null  object \n",
      " 10  house_size      158487 non-null  float64\n",
      " 11  prev_sold_date  158487 non-null  object \n",
      "dtypes: float64(5), object(7)\n",
      "memory usage: 15.7+ MB\n"
     ]
    }
   ],
   "source": [
    "df_ca.info()"
   ]
  },
  {
   "cell_type": "code",
   "execution_count": 16,
   "id": "2ee5bb5e",
   "metadata": {
    "_cell_guid": "85fccddd-098f-431a-88e5-6d28f062269b",
    "_uuid": "dce584fe-6d1a-4c75-846e-d422e7681543",
    "collapsed": false,
    "execution": {
     "iopub.execute_input": "2024-06-16T14:11:11.798552Z",
     "iopub.status.busy": "2024-06-16T14:11:11.798167Z",
     "iopub.status.idle": "2024-06-16T14:11:11.826829Z",
     "shell.execute_reply": "2024-06-16T14:11:11.825802Z"
    },
    "jupyter": {
     "outputs_hidden": false
    },
    "papermill": {
     "duration": 0.044422,
     "end_time": "2024-06-16T14:11:11.829580",
     "exception": false,
     "start_time": "2024-06-16T14:11:11.785158",
     "status": "completed"
    },
    "tags": []
   },
   "outputs": [
    {
     "name": "stdout",
     "output_type": "stream",
     "text": [
      "               price       bed      bath  acre_lot  house_size\n",
      "price       1.000000  0.222195  0.375561 -0.001848    0.495089\n",
      "bed         0.222195  1.000000  0.765625 -0.006286    0.675802\n",
      "bath        0.375561  0.765625  1.000000 -0.002147    0.808366\n",
      "acre_lot   -0.001848 -0.006286 -0.002147  1.000000   -0.002934\n",
      "house_size  0.495089  0.675802  0.808366 -0.002934    1.000000\n"
     ]
    }
   ],
   "source": [
    "#Find Correlation by price\n",
    "numerical_df = df_ca[['price', 'bed', 'bath', 'acre_lot', 'house_size']]\n",
    "correlation_matrix = numerical_df.corr()\n",
    "print(correlation_matrix)"
   ]
  },
  {
   "cell_type": "code",
   "execution_count": 17,
   "id": "74d5b041",
   "metadata": {
    "execution": {
     "iopub.execute_input": "2024-06-16T14:11:11.855732Z",
     "iopub.status.busy": "2024-06-16T14:11:11.855058Z",
     "iopub.status.idle": "2024-06-16T14:11:12.472209Z",
     "shell.execute_reply": "2024-06-16T14:11:12.470790Z"
    },
    "papermill": {
     "duration": 0.633125,
     "end_time": "2024-06-16T14:11:12.474633",
     "exception": false,
     "start_time": "2024-06-16T14:11:11.841508",
     "status": "completed"
    },
    "tags": []
   },
   "outputs": [
    {
     "data": {
      "image/png": "[encoded data removed]",
      "text/plain": [
       "<Figure size 1500x800 with 2 Axes>"
      ]
     },
     "metadata": {},
     "output_type": "display_data"
    }
   ],
   "source": [
    "import seaborn as sns\n",
    "plt.figure(figsize=(15,8))\n",
    "sns.heatmap(correlation_matrix,annot=True,cmap='coolwarm',linewidth=1)\n",
    "plt.title('Correlation House Price')\n",
    "plt.show()"
   ]
  },
  {
   "cell_type": "markdown",
   "id": "389cf2f9",
   "metadata": {
    "papermill": {
     "duration": 0.01252,
     "end_time": "2024-06-16T14:11:12.500005",
     "exception": false,
     "start_time": "2024-06-16T14:11:12.487485",
     "status": "completed"
    },
    "tags": []
   },
   "source": [
    "**Linear Regression Model**"
   ]
  },
  {
   "cell_type": "code",
   "execution_count": 18,
   "id": "def3c7eb",
   "metadata": {
    "execution": {
     "iopub.execute_input": "2024-06-16T14:11:12.528222Z",
     "iopub.status.busy": "2024-06-16T14:11:12.526968Z",
     "iopub.status.idle": "2024-06-16T14:11:12.611098Z",
     "shell.execute_reply": "2024-06-16T14:11:12.609922Z"
    },
    "papermill": {
     "duration": 0.101005,
     "end_time": "2024-06-16T14:11:12.613723",
     "exception": false,
     "start_time": "2024-06-16T14:11:12.512718",
     "status": "completed"
    },
    "tags": []
   },
   "outputs": [],
   "source": [
    "df_copy = df_ca.copy()\n",
    "\n",
    "columns_to_remove = ['status', 'brokered_by', 'city', 'state', 'prev_sold_date', 'street', 'zip_code']\n",
    "df_copy.drop(columns=columns_to_remove, inplace=True)"
   ]
  },
  {
   "cell_type": "code",
   "execution_count": 19,
   "id": "b0b48ad6",
   "metadata": {
    "execution": {
     "iopub.execute_input": "2024-06-16T14:11:12.641060Z",
     "iopub.status.busy": "2024-06-16T14:11:12.640622Z",
     "iopub.status.idle": "2024-06-16T14:11:12.661194Z",
     "shell.execute_reply": "2024-06-16T14:11:12.659855Z"
    },
    "papermill": {
     "duration": 0.03698,
     "end_time": "2024-06-16T14:11:12.663523",
     "exception": false,
     "start_time": "2024-06-16T14:11:12.626543",
     "status": "completed"
    },
    "tags": []
   },
   "outputs": [
    {
     "data": {
      "text/html": [
       "<div>\n",
       "<style scoped>\n",
       "    .dataframe tbody tr th:only-of-type {\n",
       "        vertical-align: middle;\n",
       "    }\n",
       "\n",
       "    .dataframe tbody tr th {\n",
       "        vertical-align: top;\n",
       "    }\n",
       "\n",
       "    .dataframe thead th {\n",
       "        text-align: right;\n",
       "    }\n",
       "</style>\n",
       "<table border=\"1\" class=\"dataframe\">\n",
       "  <thead>\n",
       "    <tr style=\"text-align: right;\">\n",
       "      <th></th>\n",
       "      <th>price</th>\n",
       "      <th>bed</th>\n",
       "      <th>bath</th>\n",
       "      <th>acre_lot</th>\n",
       "      <th>house_size</th>\n",
       "    </tr>\n",
       "  </thead>\n",
       "  <tbody>\n",
       "    <tr>\n",
       "      <th>1208998</th>\n",
       "      <td>172999.0</td>\n",
       "      <td>3.0</td>\n",
       "      <td>2.0</td>\n",
       "      <td>0.16</td>\n",
       "      <td>1132.0</td>\n",
       "    </tr>\n",
       "    <tr>\n",
       "      <th>1209113</th>\n",
       "      <td>201000.0</td>\n",
       "      <td>2.0</td>\n",
       "      <td>2.0</td>\n",
       "      <td>0.34</td>\n",
       "      <td>1100.0</td>\n",
       "    </tr>\n",
       "    <tr>\n",
       "      <th>1209116</th>\n",
       "      <td>250000.0</td>\n",
       "      <td>7.0</td>\n",
       "      <td>3.0</td>\n",
       "      <td>0.19</td>\n",
       "      <td>3126.0</td>\n",
       "    </tr>\n",
       "    <tr>\n",
       "      <th>1209118</th>\n",
       "      <td>325000.0</td>\n",
       "      <td>3.0</td>\n",
       "      <td>2.0</td>\n",
       "      <td>5.00</td>\n",
       "      <td>1925.0</td>\n",
       "    </tr>\n",
       "    <tr>\n",
       "      <th>1209120</th>\n",
       "      <td>287500.0</td>\n",
       "      <td>5.0</td>\n",
       "      <td>3.0</td>\n",
       "      <td>0.20</td>\n",
       "      <td>1642.0</td>\n",
       "    </tr>\n",
       "    <tr>\n",
       "      <th>...</th>\n",
       "      <td>...</td>\n",
       "      <td>...</td>\n",
       "      <td>...</td>\n",
       "      <td>...</td>\n",
       "      <td>...</td>\n",
       "    </tr>\n",
       "    <tr>\n",
       "      <th>2177842</th>\n",
       "      <td>525000.0</td>\n",
       "      <td>1.0</td>\n",
       "      <td>1.0</td>\n",
       "      <td>0.02</td>\n",
       "      <td>607.0</td>\n",
       "    </tr>\n",
       "    <tr>\n",
       "      <th>2177843</th>\n",
       "      <td>459400.0</td>\n",
       "      <td>3.0</td>\n",
       "      <td>1.0</td>\n",
       "      <td>0.12</td>\n",
       "      <td>1160.0</td>\n",
       "    </tr>\n",
       "    <tr>\n",
       "      <th>2177849</th>\n",
       "      <td>850000.0</td>\n",
       "      <td>4.0</td>\n",
       "      <td>3.0</td>\n",
       "      <td>0.14</td>\n",
       "      <td>1956.0</td>\n",
       "    </tr>\n",
       "    <tr>\n",
       "      <th>2177857</th>\n",
       "      <td>959000.0</td>\n",
       "      <td>4.0</td>\n",
       "      <td>3.0</td>\n",
       "      <td>0.21</td>\n",
       "      <td>1824.0</td>\n",
       "    </tr>\n",
       "    <tr>\n",
       "      <th>2177858</th>\n",
       "      <td>599000.0</td>\n",
       "      <td>2.0</td>\n",
       "      <td>2.0</td>\n",
       "      <td>0.16</td>\n",
       "      <td>1040.0</td>\n",
       "    </tr>\n",
       "  </tbody>\n",
       "</table>\n",
       "<p>158487 rows × 5 columns</p>\n",
       "</div>"
      ],
      "text/plain": [
       "            price  bed  bath  acre_lot  house_size\n",
       "1208998  172999.0  3.0   2.0      0.16      1132.0\n",
       "1209113  201000.0  2.0   2.0      0.34      1100.0\n",
       "1209116  250000.0  7.0   3.0      0.19      3126.0\n",
       "1209118  325000.0  3.0   2.0      5.00      1925.0\n",
       "1209120  287500.0  5.0   3.0      0.20      1642.0\n",
       "...           ...  ...   ...       ...         ...\n",
       "2177842  525000.0  1.0   1.0      0.02       607.0\n",
       "2177843  459400.0  3.0   1.0      0.12      1160.0\n",
       "2177849  850000.0  4.0   3.0      0.14      1956.0\n",
       "2177857  959000.0  4.0   3.0      0.21      1824.0\n",
       "2177858  599000.0  2.0   2.0      0.16      1040.0\n",
       "\n",
       "[158487 rows x 5 columns]"
      ]
     },
     "execution_count": 19,
     "metadata": {},
     "output_type": "execute_result"
    }
   ],
   "source": [
    "df_copy"
   ]
  },
  {
   "cell_type": "code",
   "execution_count": 20,
   "id": "6e92820f",
   "metadata": {
    "execution": {
     "iopub.execute_input": "2024-06-16T14:11:12.691836Z",
     "iopub.status.busy": "2024-06-16T14:11:12.691427Z",
     "iopub.status.idle": "2024-06-16T14:11:12.867695Z",
     "shell.execute_reply": "2024-06-16T14:11:12.866550Z"
    },
    "papermill": {
     "duration": 0.193416,
     "end_time": "2024-06-16T14:11:12.870270",
     "exception": false,
     "start_time": "2024-06-16T14:11:12.676854",
     "status": "completed"
    },
    "tags": []
   },
   "outputs": [
    {
     "data": {
      "text/html": [
       "<style>#sk-container-id-1 {color: black;background-color: white;}#sk-container-id-1 pre{padding: 0;}#sk-container-id-1 div.sk-toggleable {background-color: white;}#sk-container-id-1 label.sk-toggleable__label {cursor: pointer;display: block;width: 100%;margin-bottom: 0;padding: 0.3em;box-sizing: border-box;text-align: center;}#sk-container-id-1 label.sk-toggleable__label-arrow:before {content: \"▸\";float: left;margin-right: 0.25em;color: #696969;}#sk-container-id-1 label.sk-toggleable__label-arrow:hover:before {color: black;}#sk-container-id-1 div.sk-estimator:hover label.sk-toggleable__label-arrow:before {color: black;}#sk-container-id-1 div.sk-toggleable__content {max-height: 0;max-width: 0;overflow: hidden;text-align: left;background-color: #f0f8ff;}#sk-container-id-1 div.sk-toggleable__content pre {margin: 0.2em;color: black;border-radius: 0.25em;background-color: #f0f8ff;}#sk-container-id-1 input.sk-toggleable__control:checked~div.sk-toggleable__content {max-height: 200px;max-width: 100%;overflow: auto;}#sk-container-id-1 input.sk-toggleable__control:checked~label.sk-toggleable__label-arrow:before {content: \"▾\";}#sk-container-id-1 div.sk-estimator input.sk-toggleable__control:checked~label.sk-toggleable__label {background-color: #d4ebff;}#sk-container-id-1 div.sk-label input.sk-toggleable__control:checked~label.sk-toggleable__label {background-color: #d4ebff;}#sk-container-id-1 input.sk-hidden--visually {border: 0;clip: rect(1px 1px 1px 1px);clip: rect(1px, 1px, 1px, 1px);height: 1px;margin: -1px;overflow: hidden;padding: 0;position: absolute;width: 1px;}#sk-container-id-1 div.sk-estimator {font-family: monospace;background-color: #f0f8ff;border: 1px dotted black;border-radius: 0.25em;box-sizing: border-box;margin-bottom: 0.5em;}#sk-container-id-1 div.sk-estimator:hover {background-color: #d4ebff;}#sk-container-id-1 div.sk-parallel-item::after {content: \"\";width: 100%;border-bottom: 1px solid gray;flex-grow: 1;}#sk-container-id-1 div.sk-label:hover label.sk-toggleable__label {background-color: #d4ebff;}#sk-container-id-1 div.sk-serial::before {content: \"\";position: absolute;border-left: 1px solid gray;box-sizing: border-box;top: 0;bottom: 0;left: 50%;z-index: 0;}#sk-container-id-1 div.sk-serial {display: flex;flex-direction: column;align-items: center;background-color: white;padding-right: 0.2em;padding-left: 0.2em;position: relative;}#sk-container-id-1 div.sk-item {position: relative;z-index: 1;}#sk-container-id-1 div.sk-parallel {display: flex;align-items: stretch;justify-content: center;background-color: white;position: relative;}#sk-container-id-1 div.sk-item::before, #sk-container-id-1 div.sk-parallel-item::before {content: \"\";position: absolute;border-left: 1px solid gray;box-sizing: border-box;top: 0;bottom: 0;left: 50%;z-index: -1;}#sk-container-id-1 div.sk-parallel-item {display: flex;flex-direction: column;z-index: 1;position: relative;background-color: white;}#sk-container-id-1 div.sk-parallel-item:first-child::after {align-self: flex-end;width: 50%;}#sk-container-id-1 div.sk-parallel-item:last-child::after {align-self: flex-start;width: 50%;}#sk-container-id-1 div.sk-parallel-item:only-child::after {width: 0;}#sk-container-id-1 div.sk-dashed-wrapped {border: 1px dashed gray;margin: 0 0.4em 0.5em 0.4em;box-sizing: border-box;padding-bottom: 0.4em;background-color: white;}#sk-container-id-1 div.sk-label label {font-family: monospace;font-weight: bold;display: inline-block;line-height: 1.2em;}#sk-container-id-1 div.sk-label-container {text-align: center;}#sk-container-id-1 div.sk-container {/* jupyter's `normalize.less` sets `[hidden] { display: none; }` but bootstrap.min.css set `[hidden] { display: none !important; }` so we also need the `!important` here to be able to override the default hidden behavior on the sphinx rendered scikit-learn.org. See: https://github.com/scikit-learn/scikit-learn/issues/21755 */display: inline-block !important;position: relative;}#sk-container-id-1 div.sk-text-repr-fallback {display: none;}</style><div id=\"sk-container-id-1\" class=\"sk-top-container\"><div class=\"sk-text-repr-fallback\"><pre>LinearRegression()</pre><b>In a Jupyter environment, please rerun this cell to show the HTML representation or trust the notebook. <br />On GitHub, the HTML representation is unable to render, please try loading this page with nbviewer.org.</b></div><div class=\"sk-container\" hidden><div class=\"sk-item\"><div class=\"sk-estimator sk-toggleable\"><input class=\"sk-toggleable__control sk-hidden--visually\" id=\"sk-estimator-id-1\" type=\"checkbox\" checked><label for=\"sk-estimator-id-1\" class=\"sk-toggleable__label sk-toggleable__label-arrow\">LinearRegression</label><div class=\"sk-toggleable__content\"><pre>LinearRegression()</pre></div></div></div></div></div>"
      ],
      "text/plain": [
       "LinearRegression()"
      ]
     },
     "execution_count": 20,
     "metadata": {},
     "output_type": "execute_result"
    }
   ],
   "source": [
    "from sklearn.model_selection import train_test_split\n",
    "from sklearn import datasets, linear_model\n",
    "\n",
    "train_data = df_copy\n",
    "X = train_data.drop(['price'], axis=1)\n",
    "y = train_data['price']\n",
    "\n",
    "X_train, X_test, y_train, y_test = train_test_split(X,y,test_size=.2)\n",
    "\n",
    "# Create linear regression object\n",
    "regr = linear_model.LinearRegression()\n",
    "\n",
    "# Train the model using the training sets\n",
    "regr.fit(X_train, y_train)"
   ]
  },
  {
   "cell_type": "code",
   "execution_count": 21,
   "id": "a1d37b52",
   "metadata": {
    "execution": {
     "iopub.execute_input": "2024-06-16T14:11:12.898583Z",
     "iopub.status.busy": "2024-06-16T14:11:12.898203Z",
     "iopub.status.idle": "2024-06-16T14:11:12.912638Z",
     "shell.execute_reply": "2024-06-16T14:11:12.911154Z"
    },
    "papermill": {
     "duration": 0.033308,
     "end_time": "2024-06-16T14:11:12.916924",
     "exception": false,
     "start_time": "2024-06-16T14:11:12.883616",
     "status": "completed"
    },
    "tags": []
   },
   "outputs": [
    {
     "name": "stdout",
     "output_type": "stream",
     "text": [
      "R2 score 0.34250942552511376\n"
     ]
    }
   ],
   "source": [
    "print('R2 score',regr.score(X_test,y_test))"
   ]
  },
  {
   "cell_type": "code",
   "execution_count": 22,
   "id": "369ff5df",
   "metadata": {
    "execution": {
     "iopub.execute_input": "2024-06-16T14:11:12.975997Z",
     "iopub.status.busy": "2024-06-16T14:11:12.975313Z",
     "iopub.status.idle": "2024-06-16T14:11:13.387247Z",
     "shell.execute_reply": "2024-06-16T14:11:13.385929Z"
    },
    "papermill": {
     "duration": 0.444691,
     "end_time": "2024-06-16T14:11:13.389806",
     "exception": false,
     "start_time": "2024-06-16T14:11:12.945115",
     "status": "completed"
    },
    "tags": []
   },
   "outputs": [
    {
     "data": {
      "image/png": "[encoded data removed]",
      "text/plain": [
       "<Figure size 640x480 with 1 Axes>"
      ]
     },
     "metadata": {},
     "output_type": "display_data"
    }
   ],
   "source": [
    "y_predicted = regr.predict(X_test)\n",
    "plt.scatter(x=y_test,y=y_predicted)\n",
    "plt.plot([y_test.min(), y_test.max()], [y_test.min(), y_test.max()], 'k--', lw=2)\n",
    "plt.title('Actual vs Predicted House price')\n",
    "plt.xlabel('Actual House price')\n",
    "plt.ylabel('Predicted House price')\n",
    "plt.show()"
   ]
  }
 ],
 "metadata": {
  "kaggle": {
   "accelerator": "none",
   "dataSources": [
    {
     "datasetId": 3202774,
     "sourceId": 7981839,
     "sourceType": "datasetVersion"
    }
   ],
   "dockerImageVersionId": 30732,
   "isGpuEnabled": false,
   "isInternetEnabled": false,
   "language": "python",
   "sourceType": "notebook"
  },
  "kernelspec": {
   "display_name": "Python 3",
   "language": "python",
   "name": "python3"
  },
  "language_info": {
   "codemirror_mode": {
    "name": "ipython",
    "version": 3
   },
   "file_extension": ".py",
   "mimetype": "text/x-python",
   "name": "python",
   "nbconvert_exporter": "python",
   "pygments_lexer": "ipython3",
   "version": "3.10.13"
  },
  "papermill": {
   "default_parameters": {},
   "duration": 43.665103,
   "end_time": "2024-06-16T14:11:14.328150",
   "environment_variables": {},
   "exception": null,
   "input_path": "__notebook__.ipynb",
   "output_path": "__notebook__.ipynb",
   "parameters": {},
   "start_time": "2024-06-16T14:10:30.663047",
   "version": "2.5.0"
  }
 },
 "nbformat": 4,
 "nbformat_minor": 5
}
